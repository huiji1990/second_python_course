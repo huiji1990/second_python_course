{
 "cells": [
  {
   "cell_type": "markdown",
   "metadata": {},
   "source": [
    "# Python的继承"
   ]
  },
  {
   "cell_type": "markdown",
   "metadata": {},
   "source": [
    "- 总是从某个类继承\n",
    "```python\n",
    "class MyClass(object):\n",
    "    pass\n",
    "```\n",
    "- 调用super().init，初始化父类属性\n",
    "```python\n",
    "def __init__(self, args):\n",
    "    super(SubClass, self).__init__(args)\n",
    "    pass\n",
    "```"
   ]
  },
  {
   "cell_type": "markdown",
   "metadata": {},
   "source": [
    "### python中继承一个类"
   ]
  },
  {
   "cell_type": "code",
   "execution_count": 5,
   "metadata": {},
   "outputs": [],
   "source": [
    "class Person(object):\n",
    "    def __init__(self, name, gender):\n",
    "        self.name = name\n",
    "        self.gender = gender"
   ]
  },
  {
   "cell_type": "code",
   "execution_count": 8,
   "metadata": {},
   "outputs": [],
   "source": [
    "class Student(Person):\n",
    "    def __init__(self, name, gender, score):\n",
    "        super(Student, self).__init__(name, gender)\n",
    "        self.score = score"
   ]
  },
  {
   "cell_type": "code",
   "execution_count": 10,
   "metadata": {
    "scrolled": true
   },
   "outputs": [
    {
     "name": "stdout",
     "output_type": "stream",
     "text": [
      "a\n"
     ]
    }
   ],
   "source": [
    "a=Student('a','b','c')\n",
    "print(a.name)"
   ]
  },
  {
   "cell_type": "markdown",
   "metadata": {},
   "source": [
    "### python中判断类型"
   ]
  },
  {
   "cell_type": "markdown",
   "metadata": {},
   "source": [
    "函数isinstance()可以判断一个变量的类型，既可以用在Python内置的数据类型如str、list、dict，也可以用在我们自定义的类，它们本质上都是数据类型"
   ]
  },
  {
   "cell_type": "code",
   "execution_count": 13,
   "metadata": {},
   "outputs": [],
   "source": [
    "class Person(object):\n",
    "    def __init__(self, name, gender):\n",
    "        self.name = name\n",
    "        self.gender = gender\n",
    "\n",
    "class Student(Person):\n",
    "    def __init__(self, name, gender, score):\n",
    "        super(Student, self).__init__(name, gender)\n",
    "        self.score = score\n",
    "\n",
    "class Teacher(Person):\n",
    "    def __init__(self, name, gender, course):\n",
    "        super(Teacher, self).__init__(name, gender)\n",
    "        self.course = course\n",
    "\n",
    "p = Person('Tim', 'Male')\n",
    "s = Student('Bob', 'Male', 88)\n",
    "t = Teacher('Alice', 'Female', 'English')"
   ]
  },
  {
   "cell_type": "code",
   "execution_count": 14,
   "metadata": {},
   "outputs": [
    {
     "data": {
      "text/plain": [
       "True"
      ]
     },
     "execution_count": 14,
     "metadata": {},
     "output_type": "execute_result"
    }
   ],
   "source": [
    "isinstance(p, Person)"
   ]
  },
  {
   "cell_type": "code",
   "execution_count": 15,
   "metadata": {},
   "outputs": [
    {
     "data": {
      "text/plain": [
       "False"
      ]
     },
     "execution_count": 15,
     "metadata": {},
     "output_type": "execute_result"
    }
   ],
   "source": [
    "isinstance(p, Student)"
   ]
  },
  {
   "cell_type": "code",
   "execution_count": 17,
   "metadata": {},
   "outputs": [
    {
     "data": {
      "text/plain": [
       "True"
      ]
     },
     "execution_count": 17,
     "metadata": {},
     "output_type": "execute_result"
    }
   ],
   "source": [
    "isinstance(s, Person)"
   ]
  },
  {
   "cell_type": "code",
   "execution_count": 18,
   "metadata": {
    "scrolled": false
   },
   "outputs": [
    {
     "data": {
      "text/plain": [
       "True"
      ]
     },
     "execution_count": 18,
     "metadata": {},
     "output_type": "execute_result"
    }
   ],
   "source": [
    "isinstance(s, Student)"
   ]
  },
  {
   "cell_type": "markdown",
   "metadata": {},
   "source": [
    "### python中多态"
   ]
  },
  {
   "cell_type": "code",
   "execution_count": 20,
   "metadata": {},
   "outputs": [],
   "source": [
    "class Person(object):\n",
    "    def __init__(self, name, gender):\n",
    "        self.name = name\n",
    "        self.gender = gender\n",
    "    def whoAmI(self):\n",
    "        return 'I am a Person, my name is %s' % self.name\n",
    "\n",
    "# 都继承自Person,且都写一个whoAmI()方法\n",
    "class Student(Person):\n",
    "    def __init__(self, name, gender, score):\n",
    "        super(Student, self).__init__(name, gender)\n",
    "        self.score = score\n",
    "    def whoAmI(self):\n",
    "        return 'I am a Student, my name is %s' % self.name\n",
    "\n",
    "class Teacher(Person):\n",
    "    def __init__(self, name, gender, course):\n",
    "        super(Teacher, self).__init__(name, gender)\n",
    "        self.course = course\n",
    "    def whoAmI(self):\n",
    "        return 'I am a Teacher, my name is %s' % self.name"
   ]
  },
  {
   "cell_type": "code",
   "execution_count": 22,
   "metadata": {},
   "outputs": [
    {
     "name": "stdout",
     "output_type": "stream",
     "text": [
      "I am a Person, my name is Tim\n",
      "I am a Student, my name is Bob\n",
      "I am a Teacher, my name is Alice\n"
     ]
    }
   ],
   "source": [
    "def who_am_i(x):\n",
    "    print(x.whoAmI())\n",
    "\n",
    "p = Person('Tim', 'Male')\n",
    "s = Student('Bob', 'Male', 88)\n",
    "t = Teacher('Alice', 'Female', 'English')\n",
    "\n",
    "who_am_i(p)\n",
    "who_am_i(s)\n",
    "who_am_i(t)"
   ]
  },
  {
   "cell_type": "markdown",
   "metadata": {},
   "source": [
    "方法调用将作用在 x 的实际类型上，如果方法没有定义，则顺着继承链向上查找，直到在某个父类中找到为止"
   ]
  },
  {
   "cell_type": "markdown",
   "metadata": {},
   "source": [
    "### 多重继承"
   ]
  },
  {
   "cell_type": "code",
   "execution_count": 25,
   "metadata": {},
   "outputs": [],
   "source": [
    "class A(object):\n",
    "    def __init__(self, a):\n",
    "        print('init A...')\n",
    "        self.a = a\n",
    "\n",
    "class B(A):\n",
    "    def __init__(self, a):\n",
    "        super(B, self).__init__(a)\n",
    "        print('init B...')\n",
    "\n",
    "class C(A):\n",
    "    def __init__(self, a):\n",
    "        super(C, self).__init__(a)\n",
    "        print('init C...')\n",
    "\n",
    "class D(B, C):\n",
    "    def __init__(self, a):\n",
    "        super(D, self).__init__(a)\n",
    "        print('init D...')"
   ]
  },
  {
   "cell_type": "markdown",
   "metadata": {},
   "source": [
    "<img src='./multiinherit.jpg' width=\"300\" height=\"600\" align=\"left\">"
   ]
  },
  {
   "cell_type": "code",
   "execution_count": 26,
   "metadata": {
    "scrolled": true
   },
   "outputs": [
    {
     "name": "stdout",
     "output_type": "stream",
     "text": [
      "init A...\n",
      "init C...\n",
      "init B...\n",
      "init D...\n"
     ]
    }
   ],
   "source": [
    "d = D('d')"
   ]
  },
  {
   "cell_type": "markdown",
   "metadata": {},
   "source": [
    "多重继承的目的是从两种继承树中分别选择并继承出子类，以便组合功能使用"
   ]
  }
 ],
 "metadata": {
  "kernelspec": {
   "display_name": "Python 3",
   "language": "python",
   "name": "python3"
  },
  "language_info": {
   "codemirror_mode": {
    "name": "ipython",
    "version": 3
   },
   "file_extension": ".py",
   "mimetype": "text/x-python",
   "name": "python",
   "nbconvert_exporter": "python",
   "pygments_lexer": "ipython3",
   "version": "3.7.3"
  }
 },
 "nbformat": 4,
 "nbformat_minor": 2
}
